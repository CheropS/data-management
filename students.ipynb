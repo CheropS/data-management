{
 "cells": [
  {
   "cell_type": "markdown",
   "metadata": {},
   "source": []
  },
  {
   "cell_type": "code",
   "execution_count": 59,
   "metadata": {},
   "outputs": [],
   "source": [
    "import mysql.connector\n",
    "from mysql.connector import Error\n",
    "import pandas as pd"
   ]
  },
  {
   "cell_type": "code",
   "execution_count": 60,
   "metadata": {},
   "outputs": [],
   "source": [
    "db_config = {'host': 'localhost', 'user': 'root', 'password': 'kenyan23'}"
   ]
  },
  {
   "cell_type": "code",
   "execution_count": 61,
   "metadata": {},
   "outputs": [
    {
     "name": "stdout",
     "output_type": "stream",
     "text": [
      "connected to server successfully\n"
     ]
    }
   ],
   "source": [
    "try:\n",
    "    connection = mysql.connector.connect(**db_config)\n",
    "    if connection.is_connected():\n",
    "        print(\"connected to server successfully\")\n",
    "except Error as err:\n",
    "    print(f\"Error: '{err}'\")"
   ]
  },
  {
   "cell_type": "code",
   "execution_count": 62,
   "metadata": {},
   "outputs": [],
   "source": [
    "def execute_query(query):\n",
    "    cursor = connection.cursor()\n",
    "    cursor.execute(query, multi=True)\n",
    "    for result in cursor:\n",
    "        pass  # Consume the result set\n",
    "    connection.commit()\n",
    "    print(\"Query executed Successfully!\")\n",
    "    cursor.close()"
   ]
  },
  {
   "cell_type": "code",
   "execution_count": 63,
   "metadata": {},
   "outputs": [
    {
     "name": "stdout",
     "output_type": "stream",
     "text": [
      "Query executed Successfully!\n"
     ]
    }
   ],
   "source": [
    "file = open(\"database.sql\", \"w\")\n",
    "create_db = \"\"\"-- Creating database named edu_institute if not exists\n",
    "\n",
    "CREATE DATABASE IF NOT EXISTS edu_institute;\"\"\"\n",
    "execute_query(create_db)\n",
    "file.write(create_db)\n",
    "file.close()"
   ]
  },
  {
   "cell_type": "code",
   "execution_count": 64,
   "metadata": {},
   "outputs": [
    {
     "name": "stdout",
     "output_type": "stream",
     "text": [
      "Query executed Successfully!\n",
      "Query executed Successfully!\n"
     ]
    }
   ],
   "source": [
    "file = open(\"database.sql\", \"a\")\n",
    "use_db = \"\"\"\n",
    "\n",
    "-- Using the database to create a table named students\n",
    "USE edu_institute;\n",
    "\"\"\"\n",
    "create_table_in_db = \"\"\"-- Create table students\n",
    "CREATE TABLE IF NOT EXISTS students (\n",
    "\tstudent_id INT PRIMARY KEY,\n",
    "\tname VARCHAR(50),\n",
    "\tage INT,\n",
    "\tgender CHAR(1),\n",
    "\tenrollment_date DATE,\n",
    "\tprogram VARCHAR(50)\n",
    ");\n",
    "    \"\"\"\n",
    "execute_query(use_db)\n",
    "execute_query(create_table_in_db)\n",
    "file.write(use_db)\n",
    "file.write(create_table_in_db)\n",
    "file.close()"
   ]
  },
  {
   "cell_type": "code",
   "execution_count": null,
   "metadata": {},
   "outputs": [],
   "source": [
    "file = open(\"database.sql\", \"a\")\n",
    "insert_data_to_columns = \"\"\"\n",
    "-- Altering the table to add data into the columns\n",
    "INSERT INTO students VALUES\n",
    "\t(1, \"Linda Sumbati\", 25, \"F\", \"2022-03-04\", \"Computer Science\"),\n",
    "    (2, \"Sharon Cherop\", 26, \"F\", \"2022-03-04\", \"Data Science\"),\n",
    "    (3, \"Benedict Njue\", 24, \"M\", \"2022-03-04\", \"Data Science\"),\n",
    "    (4, \"Dabraham Immorah\", 23, \"M\", \"2022-03-04\", \"Software Engineering\"),\n",
    "    (5, \"Dan Njuguna\", 22, \"M\", \"2022-03-04\", \"Cloud Security\");\n",
    "\"\"\"\n",
    "execute_query(insert_data_to_columns)\n",
    "file.write(insert_data_to_columns)\n",
    "file.close()\n"
   ]
  },
  {
   "cell_type": "code",
   "execution_count": null,
   "metadata": {},
   "outputs": [
    {
     "name": "stdout",
     "output_type": "stream",
     "text": [
      "Query executed Successfully!\n",
      "   student_id           name  age gender enrollment_date       program\n",
      "0           2  Sharon Cherop   26      F      2022-03-04  Data Science\n",
      "1           3  Benedict Njue   24      M      2022-03-04  Data Science\n"
     ]
    },
    {
     "name": "stderr",
     "output_type": "stream",
     "text": [
      "/tmp/ipykernel_11677/343011194.py:10: UserWarning: pandas only supports SQLAlchemy connectable (engine/connection) or database string URI or sqlite3 DBAPI2 connection. Other DBAPI2 objects are not tested. Please consider using SQLAlchemy.\n",
      "  df = pd.read_sql(query, connection)\n"
     ]
    }
   ],
   "source": [
    "file = open(\"database.sql\", \"a\")\n",
    "query_data = \"\"\"\n",
    "-- a query to select all columns for all students in the \"Data Science\" program.\n",
    "SELECT * FROM students WHERE program = \"Data Science\";\n",
    "\"\"\"\n",
    "execute_query(query_data)\n",
    "file.write(query_data)\n",
    "file.close()\n",
    "query = \"SELECT * FROM edu_institute.students WHERE program = 'Data Science';\"\n",
    "df = pd.read_sql(query, connection)\n",
    "print(df)"
   ]
  },
  {
   "cell_type": "code",
   "execution_count": 67,
   "metadata": {},
   "outputs": [
    {
     "name": "stdout",
     "output_type": "stream",
     "text": [
      "Query executed Successfully!\n",
      "   Total Students\n",
      "0               5\n"
     ]
    },
    {
     "name": "stderr",
     "output_type": "stream",
     "text": [
      "/tmp/ipykernel_11677/238736822.py:10: UserWarning: pandas only supports SQLAlchemy connectable (engine/connection) or database string URI or sqlite3 DBAPI2 connection. Other DBAPI2 objects are not tested. Please consider using SQLAlchemy.\n",
      "  df = pd.read_sql(query, connection)\n"
     ]
    }
   ],
   "source": [
    "file = open(\"database.sql\", \"a\")\n",
    "student_count = \"\"\"\n",
    "-- a query to find the total number of students and display it as Total Students.\n",
    "SELECT COUNT(*) AS \"Total Students\" FROM students;\n",
    "\"\"\"\n",
    "execute_query(student_count)\n",
    "file.write(student_count)\n",
    "file.close()\n",
    "query = \"SELECT COUNT(*) AS 'Total Students' FROM edu_institute.students;\"\n",
    "df = pd.read_sql(query, connection)\n",
    "print(df)"
   ]
  },
  {
   "cell_type": "code",
   "execution_count": 68,
   "metadata": {},
   "outputs": [
    {
     "name": "stdout",
     "output_type": "stream",
     "text": [
      "Query executed Successfully!\n",
      "  Today's Date\n",
      "0   2024-03-15\n"
     ]
    },
    {
     "name": "stderr",
     "output_type": "stream",
     "text": [
      "/tmp/ipykernel_11677/1397411906.py:11: UserWarning: pandas only supports SQLAlchemy connectable (engine/connection) or database string URI or sqlite3 DBAPI2 connection. Other DBAPI2 objects are not tested. Please consider using SQLAlchemy.\n",
      "  df = pd.read_sql(query, connection)\n"
     ]
    }
   ],
   "source": [
    "file = open(\"database.sql\", \"a\")\n",
    "today_date = \"\"\"\n",
    "-- Function Usage\n",
    "-- Function to display todays date in a column named Today's Date\n",
    "SELECT CURRENT_DATE() AS \"Today's Date\";\n",
    "\"\"\"\n",
    "execute_query(today_date)\n",
    "file.write(today_date)\n",
    "file.close()\n",
    "query = \"SELECT CURRENT_DATE() AS 'Today''s Date';\"\n",
    "df = pd.read_sql(query, connection)\n",
    "print(df)"
   ]
  },
  {
   "cell_type": "code",
   "execution_count": 69,
   "metadata": {},
   "outputs": [
    {
     "name": "stdout",
     "output_type": "stream",
     "text": [
      "Query executed Successfully!\n",
      "               name enrollment_date\n",
      "0     LINDA SUMBATI      2022-03-04\n",
      "1     SHARON CHEROP      2022-03-04\n",
      "2     BENEDICT NJUE      2022-03-04\n",
      "3  DABRAHAM IMMORAH      2022-03-04\n",
      "4       DAN NJUGUNA      2022-03-04\n"
     ]
    },
    {
     "name": "stderr",
     "output_type": "stream",
     "text": [
      "/tmp/ipykernel_11677/550626356.py:10: UserWarning: pandas only supports SQLAlchemy connectable (engine/connection) or database string URI or sqlite3 DBAPI2 connection. Other DBAPI2 objects are not tested. Please consider using SQLAlchemy.\n",
      "  df = pd.read_sql(query, connection)\n"
     ]
    }
   ],
   "source": [
    "file = open(\"database.sql\", \"a\")\n",
    "uppercase_name = \"\"\"\n",
    "--  a query to select the student names and their enrolment dates, but display the name column in uppercase\n",
    "SELECT UPPER(name) AS name, enrollment_date FROM students;\n",
    "\"\"\"\n",
    "execute_query(uppercase_name)\n",
    "file.write(uppercase_name)\n",
    "file.close()\n",
    "query = \"SELECT UPPER(name) AS name, enrollment_date FROM edu_institute.students;\"\n",
    "df = pd.read_sql(query, connection)\n",
    "print(df)"
   ]
  },
  {
   "cell_type": "code",
   "execution_count": 75,
   "metadata": {},
   "outputs": [
    {
     "name": "stdout",
     "output_type": "stream",
     "text": [
      "Query executed Successfully!\n",
      "                program  Number of Students\n",
      "0          Data Science                   2\n",
      "1      Computer Science                   1\n",
      "2  Software Engineering                   1\n",
      "3        Cloud Security                   1\n"
     ]
    },
    {
     "name": "stderr",
     "output_type": "stream",
     "text": [
      "/tmp/ipykernel_11677/1475099891.py:16: UserWarning: pandas only supports SQLAlchemy connectable (engine/connection) or database string URI or sqlite3 DBAPI2 connection. Other DBAPI2 objects are not tested. Please consider using SQLAlchemy.\n",
      "  df = pd.read_sql(query, connection)\n"
     ]
    }
   ],
   "source": [
    "file = open(\"database.sql\", \"a\")\n",
    "no_of_students = \"\"\"\n",
    "-- a query to count the number of students in each program and display the results in descending order of count. Name the count column as Number of Students\n",
    "SELECT program, COUNT(*) AS \"Number of Students\" \n",
    "FROM students\n",
    "GROUP BY program\n",
    "ORDER BY COUNT(*) DESC;\n",
    "\"\"\"\n",
    "execute_query(no_of_students)\n",
    "file.write(no_of_students)\n",
    "file.close()\n",
    "query = \"\"\"SELECT program, COUNT(*) AS \"Number of Students\" \n",
    "FROM edu_institute.students\n",
    "GROUP BY program\n",
    "ORDER BY COUNT(*) DESC;\"\"\"\n",
    "df = pd.read_sql(query, connection)\n",
    "print(df)"
   ]
  },
  {
   "cell_type": "code",
   "execution_count": 76,
   "metadata": {},
   "outputs": [
    {
     "name": "stdout",
     "output_type": "stream",
     "text": [
      "Query executed Successfully!\n",
      "          name  age\n",
      "0  Dan Njuguna   22\n"
     ]
    },
    {
     "name": "stderr",
     "output_type": "stream",
     "text": [
      "/tmp/ipykernel_11677/55818845.py:16: UserWarning: pandas only supports SQLAlchemy connectable (engine/connection) or database string URI or sqlite3 DBAPI2 connection. Other DBAPI2 objects are not tested. Please consider using SQLAlchemy.\n",
      "  df = pd.read_sql(query, connection)\n"
     ]
    }
   ],
   "source": [
    "file = open(\"database.sql\", \"a\")\n",
    "youngest_student = \"\"\"\n",
    "-- a query to find the youngest student's name and age.\n",
    "SELECT name, age\n",
    "FROM students\n",
    "ORDER BY age ASC\n",
    "LIMIT 1;\n",
    "\"\"\"\n",
    "execute_query(youngest_student)\n",
    "file.write(youngest_student)\n",
    "file.close()\n",
    "query = \"\"\"SELECT name, age\n",
    "FROM edu_institute.students\n",
    "ORDER BY age ASC\n",
    "LIMIT 1;\"\"\"\n",
    "df = pd.read_sql(query, connection)\n",
    "print(df)"
   ]
  },
  {
   "cell_type": "code",
   "execution_count": 77,
   "metadata": {},
   "outputs": [
    {
     "name": "stdout",
     "output_type": "stream",
     "text": [
      "   student_id              name  age gender enrollment_date  \\\n",
      "0           1     Linda Sumbati   25      F      2022-03-04   \n",
      "1           2     Sharon Cherop   26      F      2022-03-04   \n",
      "2           3     Benedict Njue   24      M      2022-03-04   \n",
      "3           4  Dabraham Immorah   23      M      2022-03-04   \n",
      "4           5       Dan Njuguna   22      M      2022-03-04   \n",
      "\n",
      "                program  \n",
      "0      Computer Science  \n",
      "1          Data Science  \n",
      "2          Data Science  \n",
      "3  Software Engineering  \n",
      "4        Cloud Security  \n"
     ]
    },
    {
     "name": "stderr",
     "output_type": "stream",
     "text": [
      "/tmp/ipykernel_11677/3934281390.py:2: UserWarning: pandas only supports SQLAlchemy connectable (engine/connection) or database string URI or sqlite3 DBAPI2 connection. Other DBAPI2 objects are not tested. Please consider using SQLAlchemy.\n",
      "  df = pd.read_sql(query, connection)\n"
     ]
    }
   ],
   "source": [
    "query = \"SELECT * FROM edu_institute.students;\"\n",
    "df = pd.read_sql(query, connection)\n",
    "print(df)"
   ]
  }
 ],
 "metadata": {
  "kernelspec": {
   "display_name": "Python 3",
   "language": "python",
   "name": "python3"
  },
  "language_info": {
   "codemirror_mode": {
    "name": "ipython",
    "version": 3
   },
   "file_extension": ".py",
   "mimetype": "text/x-python",
   "name": "python",
   "nbconvert_exporter": "python",
   "pygments_lexer": "ipython3",
   "version": "3.10.12"
  }
 },
 "nbformat": 4,
 "nbformat_minor": 2
}
